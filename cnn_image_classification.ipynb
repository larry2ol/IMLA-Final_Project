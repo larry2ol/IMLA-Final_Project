{
 "cells": [
  {
   "cell_type": "code",
   "execution_count": 1,
   "id": "8a05fd40-369d-4170-876e-cf7e127637b3",
   "metadata": {},
   "outputs": [
    {
     "name": "stderr",
     "output_type": "stream",
     "text": [
      "C:\\Users\\Lenovo\\anaconda3\\Lib\\site-packages\\torchvision\\io\\image.py:13: UserWarning: Failed to load image Python extension: '[WinError 127] The specified procedure could not be found'If you don't plan on using image functionality from `torchvision.io`, you can ignore this warning. Otherwise, there might be something wrong with your environment. Did you have `libjpeg` or `libpng` installed before building `torchvision` from source?\n",
      "  warn(\n"
     ]
    }
   ],
   "source": [
    "import torch\n",
    "import torch.nn as nn\n",
    "import torch.nn.functional as F\n",
    "import matplotlib.pyplot as plt\n",
    "import torchvision\n",
    "import torchvision.transforms as transforms\n",
    "import cv2\n",
    "import time\n",
    "import copy\n",
    "import numpy as np\n",
    "import torch.optim as optim\n",
    "import pytorchtools\n",
    "import glob\n",
    "import pathlib \n",
    "import random\n",
    "import os\n",
    "from torchvision.datasets import ImageFolder\n",
    "from torch.utils.data import DataLoader\n",
    "from torch.utils.data import Dataset\n",
    "from torchvision.io import read_image, ImageReadMode\n",
    "from torch.utils.data import DataLoader\n",
    "from functools import partial\n",
    "from bayes_opt import BayesianOptimization\n",
    "from pytorch_lightning.callbacks.early_stopping import EarlyStopping\n",
    "from PIL import Image\n",
    "from torch.optim import lr_scheduler\n",
    "from torchvision import datasets, transforms, models\n",
    "from torch.optim import lr_scheduler\n",
    "from sklearn.metrics import confusion_matrix, ConfusionMatrixDisplay\n",
    "from pytorch_lightning import Trainer\n"
   ]
  },
  {
   "cell_type": "code",
   "execution_count": 2,
   "id": "6aec98fd-d252-4375-ac45-489e16ec08f8",
   "metadata": {},
   "outputs": [],
   "source": [
    "transform = transforms.Compose([\n",
    "    transforms.Resize((224, 224)),  \n",
    "    transforms.RandomHorizontalFlip(),\n",
    "    transforms.RandomCrop(224),\n",
    "    transforms.ColorJitter(2),\n",
    "    transforms.ToTensor(),         \n",
    "    transforms.Normalize((0.5, 0.5, 0.5), (0.5, 0.5, 0.5))]\n",
    ")"
   ]
  },
  {
   "cell_type": "code",
   "execution_count": 3,
   "id": "b55c10e0-0ffa-4289-86c1-e0f7fc0bee8b",
   "metadata": {},
   "outputs": [
    {
     "data": {
      "text/plain": [
       "976"
      ]
     },
     "execution_count": 3,
     "metadata": {},
     "output_type": "execute_result"
    }
   ],
   "source": [
    "dataset = torchvision.datasets.ImageFolder(root='data', transform=transform)\n",
    "len(dataset)"
   ]
  },
  {
   "cell_type": "code",
   "execution_count": 4,
   "id": "7fa26887-ecb7-4fa2-91b1-9c5432f1f126",
   "metadata": {},
   "outputs": [
    {
     "data": {
      "text/plain": [
       "['AiArtData', 'RealArt']"
      ]
     },
     "execution_count": 4,
     "metadata": {},
     "output_type": "execute_result"
    }
   ],
   "source": [
    "dataset.classes"
   ]
  },
  {
   "cell_type": "code",
   "execution_count": 5,
   "id": "ebdb89ca-185b-4aa9-ad11-fc56d1a9505a",
   "metadata": {},
   "outputs": [],
   "source": [
    "# Get current directory\n",
    "cwd_path = pathlib.Path(os.getcwd())\n"
   ]
  },
  {
   "cell_type": "code",
   "execution_count": 6,
   "id": "74d02e66-dff2-45b6-8bb4-c9c77eb69b66",
   "metadata": {},
   "outputs": [],
   "source": [
    "# Define data directory\n",
    "path_to_img_dir = os.path.join(cwd_path, 'data')\n"
   ]
  },
  {
   "cell_type": "code",
   "execution_count": 7,
   "id": "6878e74e-8869-4daa-ae92-61831a69f687",
   "metadata": {},
   "outputs": [],
   "source": [
    "\n",
    "for dirname, _, filenames in os.walk(path_to_img_dir):\n",
    "    for filename in filenames:\n",
    "        img_path = os.path.join(dirname,filename)\n",
    "        im = Image.open(img_path)\n",
    "        # Check if the image is a PNG and not already in RGBA mode\n",
    "        if im.format == 'PNG' and im.mode != 'RGBA':\n",
    "            im = im.convert('RGBA')\n",
    "            "
   ]
  },
  {
   "cell_type": "code",
   "execution_count": 8,
   "id": "9453e5de-9536-47ae-bf7b-c27f71fbd5c7",
   "metadata": {},
   "outputs": [],
   "source": [
    "\n",
    "class Dataset(Dataset):\n",
    "    def __init__(self, root_dir, transform):\n",
    "        self.transform = transform\n",
    "        self.image_paths = []\n",
    "        for ext in ['png', 'jpg', 'jpeg']:\n",
    "            self.image_paths += glob.glob(os.path.join(root_dir, '*', f'*.{ext}'))\n",
    "        class_set = set()\n",
    "        for path in self.image_paths:\n",
    "            class_set.add(os.path.dirname(path))\n",
    "        self.class_lbl = { cls: i for i, cls in enumerate(sorted(list(class_set)))}\n",
    "\n",
    "    def __len__(self):\n",
    "        return len(self.image_paths)\n",
    "\n",
    "    def __getitem__(self, idx):\n",
    "        img = read_image(self.image_paths[idx], ImageReadMode.RGB).float()\n",
    "        cls = os.path.basename(os.path.dirname(self.image_paths[idx]))\n",
    "        label = self.class_lbl[cls]\n",
    "\n",
    "        return self.transform(img), torch.tensor(label)"
   ]
  },
  {
   "cell_type": "code",
   "execution_count": 9,
   "id": "6199cc9e-6c6d-413c-a572-89ffa1fb2456",
   "metadata": {},
   "outputs": [],
   "source": [
    "custom_dataset = Dataset('data/', transform)"
   ]
  },
  {
   "cell_type": "code",
   "execution_count": 10,
   "id": "841451f9-e0d5-46d7-be7c-308ee3e6ff08",
   "metadata": {},
   "outputs": [],
   "source": [
    "#Create data split ration\n",
    "splits = [0.8, 0.1, 0.1]"
   ]
  },
  {
   "cell_type": "code",
   "execution_count": 11,
   "id": "18c40972-5443-491f-97c9-71fb29b16908",
   "metadata": {},
   "outputs": [],
   "source": [
    "split_sizes = []\n",
    "for sp in splits[:-1]:\n",
    "    split_sizes.append(int(sp * len(custom_dataset)))\n",
    "split_sizes.append(len(dataset) - sum(split_sizes))"
   ]
  },
  {
   "cell_type": "code",
   "execution_count": 12,
   "id": "93519c75-51a5-4986-bc2e-82294ac12b68",
   "metadata": {},
   "outputs": [],
   "source": [
    "# Randomly split dataset into training, validation and test sets\n",
    "train_set, test_set, val_set = torch.utils.data.random_split(dataset, split_sizes)"
   ]
  },
  {
   "cell_type": "code",
   "execution_count": 13,
   "id": "ad1f216b-0788-4cd6-b35e-9abd7da7e39c",
   "metadata": {},
   "outputs": [],
   "source": [
    "dataloaders = {\n",
    "    \"train\": DataLoader(train_set, batch_size=32, shuffle=True),\n",
    "    \"test\": DataLoader(test_set, batch_size=32, shuffle=False),\n",
    "    \"val\": DataLoader(val_set, batch_size=32, shuffle=False)\n",
    "}"
   ]
  },
  {
   "cell_type": "code",
   "execution_count": 14,
   "id": "ed210fb5-7b7e-4e3b-96cb-055d2b01f104",
   "metadata": {},
   "outputs": [],
   "source": [
    "# Extract train_loader, val_loader and test_loader from dataloader dictionary\n",
    "train_loader = dataloaders['train'].dataset\n",
    "val_loader = dataloaders['val'].dataset\n",
    "test_loader = dataloaders['test'].dataset"
   ]
  },
  {
   "cell_type": "code",
   "execution_count": 15,
   "id": "9d5c74d6-7fcb-440f-bb74-9ef00ddb79b8",
   "metadata": {},
   "outputs": [],
   "source": [
    "image , label = next(iter(train_loader))"
   ]
  },
  {
   "cell_type": "code",
   "execution_count": 16,
   "id": "a6b2979d-2186-4728-b75f-fcd88afd0fa2",
   "metadata": {},
   "outputs": [],
   "source": [
    "# Create an AdaptiveAvgPool2d layer with target output size (224, 224)\n",
    "adaptive_avg_pool = nn.AdaptiveAvgPool2d((224, 224))\n",
    "# Apply the adaptive pooling layer to the input tensor\n",
    "output_tensor = adaptive_avg_pool(image)"
   ]
  },
  {
   "cell_type": "code",
   "execution_count": 17,
   "id": "0b35e1cd-1c12-4911-bb97-ab01d87963bf",
   "metadata": {},
   "outputs": [
    {
     "data": {
      "text/plain": [
       "torch.Size([3, 224, 224])"
      ]
     },
     "execution_count": 17,
     "metadata": {},
     "output_type": "execute_result"
    }
   ],
   "source": [
    "#Determine image shape from the adaptive pool tensor\n",
    "image = output_tensor\n",
    "image_shape = image.shape\n",
    "image_shape"
   ]
  },
  {
   "cell_type": "code",
   "execution_count": 18,
   "id": "51315df0-b3b0-4947-8f93-97677ef44958",
   "metadata": {},
   "outputs": [],
   "source": [
    "# CNN architecture based on Bayesian optimisation in the other notebook\n",
    "class CNN(nn.Module):\n",
    "    def __init__(self):\n",
    "        super(CNN, self).__init__()\n",
    "        self.conv1 = nn.Conv2d(in_channels=3, out_channels=32, kernel_size=5)\n",
    "        self.pool = nn.MaxPool2d(kernel_size=2, stride=2)\n",
    "        self.conv2 = nn.Conv2d(in_channels=32, out_channels=64, kernel_size=5)\n",
    "        self.adaptive_pool = nn.AdaptiveAvgPool2d((4, 4))  # Adaptive pooling to fixed size\n",
    "        self.fc1 = nn.Linear(64 * 4 * 4, 77)\n",
    "        self.fc2 = nn.Linear(77, 77)\n",
    "        self.fc3 = nn.Linear(77, 1)\n",
    "        self.dropout = nn.Dropout(p=0.17)\n",
    "\n",
    "    def forward(self, x):\n",
    "        x = self.pool(F.relu(self.conv1(x)))\n",
    "        x = self.pool(F.relu(self.conv2(x)))\n",
    "        x = self.adaptive_pool(x)  # Apply adaptive pooling\n",
    "        x = x.view(-1, 64 * 4 * 4)  #Flatten Convolutional layer\n",
    "        x = self.dropout(F.relu(self.fc1(x)))\n",
    "        x = self.dropout(F.relu(self.fc2(x)))\n",
    "        x = torch.sigmoid(self.fc3(x))\n",
    "        return x"
   ]
  },
  {
   "cell_type": "code",
   "execution_count": 19,
   "id": "f1d60bd8-7324-4d20-ba32-e092aaac3c71",
   "metadata": {},
   "outputs": [],
   "source": [
    "class EarlyStopping:\n",
    "    def __init__(self, patience=5, verbose=False):\n",
    "        self.patience = patience\n",
    "        self.verbose = verbose\n",
    "        self.counter = 0\n",
    "        self.best_loss = None\n",
    "        self.early_stop = False\n",
    "\n",
    "    def __call__(self, val_loss, model):\n",
    "        if self.best_loss is None:\n",
    "            self.best_loss = val_loss\n",
    "        elif val_loss > self.best_loss:\n",
    "            self.counter += 1\n",
    "            if self.counter >= self.patience:\n",
    "                self.early_stop = True\n",
    "        else:\n",
    "            self.best_loss = val_loss\n",
    "            self.counter = 0"
   ]
  },
  {
   "cell_type": "code",
   "execution_count": 20,
   "id": "63caa856-735d-4ca1-abf2-f9b7f26abf97",
   "metadata": {},
   "outputs": [],
   "source": [
    "train_losses = []\n",
    "val_losses = []\n",
    "train_accuracies = []\n",
    "val_accuracies = []\n",
    "epochs= []\n",
    "all_preds, all_labels = [], []"
   ]
  },
  {
   "cell_type": "code",
   "execution_count": 21,
   "id": "da876e59-f9e0-4824-b76f-e7a452c90560",
   "metadata": {},
   "outputs": [],
   "source": [
    "\n",
    "# Create training loop\n",
    "def train_step(model, train_dataset, val_dataset, loss_fn, optimizer, num_epochs=50):\n",
    "    since = time.time()\n",
    "    best_model_weight = copy.deepcopy(model.state_dict())\n",
    "    best_acc = 0.0\n",
    "    early_stopping = EarlyStopping(patience=5, verbose=True)\n",
    "\n",
    "    for epoch in range(num_epochs):\n",
    "        print(f'Epoch {epoch}/{num_epochs - 1}')\n",
    "        model.train()\n",
    "        train_loader = DataLoader(train_dataset, batch_size=64, shuffle=True)\n",
    "        train_loss, train_correct = 0, 0\n",
    "\n",
    "        for batch, (X, y) in enumerate(train_loader):\n",
    "            y_pred = model(X).squeeze()\n",
    "            loss = loss_fn(y_pred, y.float())\n",
    "            train_loss += loss.item()\n",
    "            optimizer.zero_grad()\n",
    "            loss.backward()\n",
    "            optimizer.step()\n",
    "            y_pred_class = (y_pred > 0.5).float()\n",
    "            train_correct += (y_pred_class == y).sum().item()\n",
    "\n",
    "        train_loss /= len(train_loader)\n",
    "        train_losses.append(train_loss)\n",
    "        train_acc = train_correct / len(train_loader.dataset)\n",
    "        train_accuracies.append(train_acc)\n",
    "\n",
    "        model.eval()\n",
    "        val_loader = DataLoader(val_dataset, batch_size=64, shuffle=False)\n",
    "        val_loss, val_correct = 0, 0\n",
    "        \n",
    "\n",
    "        with torch.no_grad():\n",
    "            for batch, (X, y) in enumerate(val_loader):\n",
    "                y_pred = model(X).squeeze()\n",
    "                loss = loss_fn(y_pred, y.float())\n",
    "                val_loss += loss.item()\n",
    "                y_pred_class = (y_pred > 0.5).float()\n",
    "                val_correct += (y_pred_class == y).sum().item()\n",
    "                all_preds.extend(y_pred_class.cpu().numpy())\n",
    "                all_labels.extend(y.cpu().numpy())\n",
    "\n",
    "        val_loss /= len(val_loader)\n",
    "        val_losses.append(val_loss)\n",
    "        val_acc = val_correct / len(val_loader.dataset)\n",
    "        val_accuracies.append(val_acc)\n",
    "\n",
    "        print(f'Train Loss: {train_loss:.4f}, Train Acc: {train_acc:.4f}')\n",
    "        print(f'Val Loss: {val_loss:.4f}, Val Acc: {val_acc:.4f}')\n",
    "\n",
    "        if val_acc > best_acc:\n",
    "            best_acc = val_acc\n",
    "            best_model_weight = copy.deepcopy(model.state_dict())\n",
    "            torch.save(best_model_weight, 'checkpoint.pt')\n",
    "\n",
    "        early_stopping(val_loss, model)\n",
    "        if early_stopping.early_stop:\n",
    "            print(\"Early stopping\")\n",
    "            break\n",
    "        epochs.append(epoch)\n",
    "    model.load_state_dict(best_model_weight)\n",
    "    print('Training ends')\n",
    "\n",
    "    end = time.time()\n",
    "    duration = (end - since)/60\n",
    "    print(f'Duration: {duration:.2f} minutes')\n",
    "\n",
    "\n"
   ]
  },
  {
   "cell_type": "code",
   "execution_count": 22,
   "id": "c8e39404-564f-46fb-a780-4e9254420f7d",
   "metadata": {},
   "outputs": [
    {
     "data": {
      "text/plain": [
       "CNN(\n",
       "  (conv1): Conv2d(3, 32, kernel_size=(5, 5), stride=(1, 1))\n",
       "  (pool): MaxPool2d(kernel_size=2, stride=2, padding=0, dilation=1, ceil_mode=False)\n",
       "  (conv2): Conv2d(32, 64, kernel_size=(5, 5), stride=(1, 1))\n",
       "  (adaptive_pool): AdaptiveAvgPool2d(output_size=(4, 4))\n",
       "  (fc1): Linear(in_features=1024, out_features=77, bias=True)\n",
       "  (fc2): Linear(in_features=77, out_features=77, bias=True)\n",
       "  (fc3): Linear(in_features=77, out_features=1, bias=True)\n",
       "  (dropout): Dropout(p=0.17, inplace=False)\n",
       ")"
      ]
     },
     "execution_count": 22,
     "metadata": {},
     "output_type": "execute_result"
    }
   ],
   "source": [
    "# Createan instance of the model\n",
    "model = CNN()\n",
    "model"
   ]
  },
  {
   "cell_type": "code",
   "execution_count": 23,
   "id": "64f6cb91-f686-4870-941a-8ea5b7668827",
   "metadata": {},
   "outputs": [],
   "source": [
    "# Define loss function and Optimizer\n",
    "loss_fn = nn.BCELoss()  \n",
    "optimizer = torch.optim.Adam(model.parameters(), lr=0.001)"
   ]
  },
  {
   "cell_type": "code",
   "execution_count": 24,
   "id": "0f7ceb10-3a5d-49cb-890a-005e3c4c777e",
   "metadata": {},
   "outputs": [
    {
     "name": "stdout",
     "output_type": "stream",
     "text": [
      "Epoch 0/49\n"
     ]
    },
    {
     "name": "stderr",
     "output_type": "stream",
     "text": [
      "C:\\Users\\Lenovo\\anaconda3\\Lib\\site-packages\\PIL\\Image.py:981: UserWarning: Palette images with Transparency expressed in bytes should be converted to RGBA images\n",
      "  warnings.warn(\n"
     ]
    },
    {
     "name": "stdout",
     "output_type": "stream",
     "text": [
      "Train Loss: 0.6996, Train Acc: 0.5129\n",
      "Val Loss: 0.6937, Val Acc: 0.5094\n",
      "Epoch 1/49\n",
      "Train Loss: 0.6891, Train Acc: 0.5930\n",
      "Val Loss: 0.6915, Val Acc: 0.5377\n",
      "Epoch 2/49\n",
      "Train Loss: 0.6833, Train Acc: 0.5917\n",
      "Val Loss: 0.6921, Val Acc: 0.5094\n",
      "Epoch 3/49\n",
      "Train Loss: 0.6725, Train Acc: 0.5827\n",
      "Val Loss: 0.6919, Val Acc: 0.5189\n",
      "Epoch 4/49\n",
      "Train Loss: 0.6593, Train Acc: 0.6176\n",
      "Val Loss: 0.7238, Val Acc: 0.5377\n",
      "Epoch 5/49\n",
      "Train Loss: 0.6437, Train Acc: 0.6279\n",
      "Val Loss: 0.6856, Val Acc: 0.5849\n",
      "Epoch 6/49\n",
      "Train Loss: 0.6553, Train Acc: 0.6124\n",
      "Val Loss: 0.6606, Val Acc: 0.5849\n",
      "Epoch 7/49\n",
      "Train Loss: 0.6579, Train Acc: 0.6150\n",
      "Val Loss: 0.7002, Val Acc: 0.5189\n",
      "Epoch 8/49\n",
      "Train Loss: 0.6680, Train Acc: 0.6124\n",
      "Val Loss: 0.7031, Val Acc: 0.5377\n",
      "Epoch 9/49\n",
      "Train Loss: 0.6589, Train Acc: 0.6124\n",
      "Val Loss: 0.6701, Val Acc: 0.6226\n",
      "Epoch 10/49\n",
      "Train Loss: 0.6542, Train Acc: 0.6305\n",
      "Val Loss: 0.6654, Val Acc: 0.6226\n",
      "Epoch 11/49\n",
      "Train Loss: 0.6283, Train Acc: 0.6550\n",
      "Val Loss: 0.6968, Val Acc: 0.5849\n",
      "Early stopping\n",
      "Training ends\n",
      "Duration: 27.25 minutes\n"
     ]
    }
   ],
   "source": [
    "# Call the training to train the model\n",
    "train_step(model, train_set, val_set, loss_fn, optimizer)"
   ]
  },
  {
   "cell_type": "code",
   "execution_count": 25,
   "id": "3caada63-f38e-4f34-8ef8-4e74277d88b2",
   "metadata": {},
   "outputs": [
    {
     "name": "stdout",
     "output_type": "stream",
     "text": [
      "Confusion Matrix:\n",
      "[[571 101]\n",
      " [464 136]]\n"
     ]
    }
   ],
   "source": [
    "# Confusion Matrix\n",
    "confusion_matrix = confusion_matrix(all_labels, all_preds)\n",
    "print('Confusion Matrix:')\n",
    "print(confusion_matrix)"
   ]
  },
  {
   "cell_type": "code",
   "execution_count": 35,
   "id": "72aabfa0-51a5-4a83-99fc-1bc7dbab2f02",
   "metadata": {},
   "outputs": [
    {
     "name": "stdout",
     "output_type": "stream",
     "text": [
      "12\n",
      "12\n",
      "12\n",
      "12\n",
      "11\n",
      "1272\n",
      "1272\n"
     ]
    }
   ],
   "source": [
    "print(len(train_losses))\n",
    "print(len(val_losses)) \n",
    "print(len(train_accuracies))\n",
    "print(len(val_accuracies))\n",
    "print(len(epochs))\n",
    "print(len(all_preds)) \n",
    "print(len(all_labels))"
   ]
  },
  {
   "cell_type": "code",
   "execution_count": null,
   "id": "97a2c5d4-487e-4a1b-bc00-a1354ce8d75b",
   "metadata": {},
   "outputs": [],
   "source": [
    "history = []\n",
    "history.append({'epoch':epochs,'train_loss':training_losses,'val_loss':epoch_val_loss,'val_accuracy':epoch_accuracy})"
   ]
  },
  {
   "cell_type": "code",
   "execution_count": 39,
   "id": "d6776ff6-bf5b-4293-a381-036847283fd6",
   "metadata": {},
   "outputs": [
    {
     "data": {
      "text/plain": [
       "Text(0.5, 1.0, 'Training Accuracies and  Loss')"
      ]
     },
     "execution_count": 39,
     "metadata": {},
     "output_type": "execute_result"
    },
    {
     "data": {
      "image/png": "[encoded data removed]",
      "text/plain": [
       "<Figure size 1200x400 with 1 Axes>"
      ]
     },
     "metadata": {},
     "output_type": "display_data"
    }
   ],
   "source": [
    "# Plot training accuracy and training loss\n",
    "num_epochs=12\n",
    "plt.figure(figsize=(12, 4))\n",
    "plt.subplot(1, 2, 1)\n",
    "plt.plot(range(num_epochs), train_losses, label='Training Loss')\n",
    "plt.plot(range(num_epochs), train_accuracies, label='Training Accuracies')\n",
    "plt.xlabel('Epochs')\n",
    "plt.ylabel('Loss')\n",
    "plt.legend()\n",
    "plt.title('Training Accuracies and  Loss')"
   ]
  },
  {
   "cell_type": "code",
   "execution_count": 41,
   "id": "42ac9117-edc0-4e72-8972-29fcd0acf53a",
   "metadata": {},
   "outputs": [
    {
     "data": {
      "text/plain": [
       "Text(0.5, 1.0, 'Validation Accuracies and Loss')"
      ]
     },
     "execution_count": 41,
     "metadata": {},
     "output_type": "execute_result"
    },
    {
     "data": {
      "image/png": "[encoded data removed]",
      "text/plain": [
       "<Figure size 1200x400 with 1 Axes>"
      ]
     },
     "metadata": {},
     "output_type": "display_data"
    }
   ],
   "source": [
    "# Plot validation accuracy and validation loss\n",
    "plt.figure(figsize=(12, 4))\n",
    "plt.subplot(1, 2, 1)\n",
    "plt.plot(range(num_epochs), val_losses, label='Validation Loss')\n",
    "plt.plot(range(num_epochs), val_accuracies, label='Validation Accuracies')\n",
    "plt.xlabel('Epochs')\n",
    "plt.ylabel('Loss')\n",
    "plt.legend()\n",
    "plt.title('Validation Accuracies and Loss')"
   ]
  },
  {
   "cell_type": "code",
   "execution_count": 45,
   "id": "be4c236e-436b-4752-af8d-c820608d85d0",
   "metadata": {},
   "outputs": [],
   "source": [
    "# Function to inference over test data\n",
    "def classify_test_images(model, test_loader):\n",
    "    model.eval()  #set model to evaluation\n",
    "    sample_images, sample_labels = next(iter(test_loader))  #iterate to next sample\n",
    "    with torch.no_grad():\n",
    "        predictions = model(sample_images).squeeze()\n",
    "        predicted_classes = (predictions > 0.5).float()\n",
    "    return sample_images, predicted_classes, sample_labels\n"
   ]
  },
  {
   "cell_type": "code",
   "execution_count": 87,
   "id": "aefd83c8-217d-45b8-9b3b-07e7e70bf3db",
   "metadata": {},
   "outputs": [],
   "source": [
    "# Inference on a test data sample\n",
    "sample_images, predicted_classes, sample_labels = classify_test_images(model, test_loader)"
   ]
  },
  {
   "cell_type": "code",
   "execution_count": 89,
   "id": "d35a17d4-1327-4f02-a6f2-4036597c1d52",
   "metadata": {},
   "outputs": [
    {
     "data": {
      "text/plain": [
       "0"
      ]
     },
     "execution_count": 89,
     "metadata": {},
     "output_type": "execute_result"
    }
   ],
   "source": [
    "#predicted class\n",
    "int(predicted_classes.item())"
   ]
  },
  {
   "cell_type": "code",
   "execution_count": 91,
   "id": "59b85208-9e08-45d0-809d-34fb20762984",
   "metadata": {},
   "outputs": [
    {
     "data": {
      "text/plain": [
       "1"
      ]
     },
     "execution_count": 91,
     "metadata": {},
     "output_type": "execute_result"
    }
   ],
   "source": [
    "#Actual label\n",
    "sample_labels"
   ]
  },
  {
   "cell_type": "code",
   "execution_count": 71,
   "id": "3c6d9a30-77f0-4033-8d0b-36fbfe95f202",
   "metadata": {},
   "outputs": [],
   "source": [
    "# Funtion to evaluate model on test set\n",
    "def test_step(model, testloader):\n",
    "    model.eval()\n",
    "    correct = 0\n",
    "    total = 0\n",
    "    with torch.no_grad():\n",
    "        for data in testloader:\n",
    "            images, labels = data\n",
    "            outputs = model(images)\n",
    "            _, predicted = torch.max(outputs.data, 1)\n",
    "            correct += (predicted == labels).sum().item()\n",
    "    accuracy = 100 * correct / len(testloader)\n",
    "    print(f\"Test Accuracy: {accuracy:.2f}%\")\n",
    "    #return accuracy\n",
    "  "
   ]
  },
  {
   "cell_type": "code",
   "execution_count": 73,
   "id": "5bd417b1-62cf-40be-96a5-8729d8bd123b",
   "metadata": {},
   "outputs": [
    {
     "name": "stdout",
     "output_type": "stream",
     "text": [
      "Test Accuracy: 51.04%\n"
     ]
    }
   ],
   "source": [
    "test_step(model, test_loader)"
   ]
  },
  {
   "cell_type": "code",
   "execution_count": 93,
   "id": "73a18ec5-80ea-490e-9cd7-24b73bea96eb",
   "metadata": {},
   "outputs": [],
   "source": [
    "# store weights into a local file\n",
    "torch.save(model.state_dict(), 'checkpoint1.pth')\n"
   ]
  },
  {
   "cell_type": "code",
   "execution_count": null,
   "id": "6363f986-222c-45ac-9a68-a81161ff81d4",
   "metadata": {},
   "outputs": [],
   "source": []
  }
 ],
 "metadata": {
  "kernelspec": {
   "display_name": "Python 3 (ipykernel)",
   "language": "python",
   "name": "python3"
  },
  "language_info": {
   "codemirror_mode": {
    "name": "ipython",
    "version": 3
   },
   "file_extension": ".py",
   "mimetype": "text/x-python",
   "name": "python",
   "nbconvert_exporter": "python",
   "pygments_lexer": "ipython3",
   "version": "3.11.7"
  }
 },
 "nbformat": 4,
 "nbformat_minor": 5
}
